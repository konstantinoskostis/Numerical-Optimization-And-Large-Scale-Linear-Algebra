{
 "cells": [
  {
   "cell_type": "markdown",
   "id": "235a8286-8bfd-4a08-aa3d-79a35f58461e",
   "metadata": {},
   "source": [
    "# Numerical Optimization And Large Scale Linear Algebra\n",
    "\n",
    "## Homework Assignment 1: Constrained Portfolio Optimization\n",
    "\n",
    "---\n",
    "\n",
    "> Kostis Konstantinos (p3352311) <br>\n",
    "> MSc Data Science (Part-Time) <br>\n",
    "> Athens University Of Economics And Businesss"
   ]
  },
  {
   "cell_type": "code",
   "execution_count": 1,
   "id": "6a520034-7032-4b43-a1b1-881da3adc0d8",
   "metadata": {},
   "outputs": [],
   "source": [
    "# Import needed libraries\n",
    "import pandas as pd\n",
    "import numpy as np\n",
    "import scipy\n",
    "import matplotlib.pyplot as plt\n",
    "\n",
    "%matplotlib inline"
   ]
  },
  {
   "cell_type": "markdown",
   "id": "5bca1288-bdd3-4ffb-8919-9d9f8207cfe7",
   "metadata": {},
   "source": [
    "## Load and split the data\n",
    "\n",
    "**Methodology**\n",
    "\n",
    "- Create a list of 20 feature names. The first 19 are encoded as `stock_{i}` and the last is named as `risk_free_asset`.\n",
    "- The data file named `portfolio_data.txt` is read using pandas. There is no header and the comments section of 22 lines is skipped.\n",
    "- Then the shape of the data is printed along with the first 5 rows of the dataset.\n",
    "- Finally the dataset is split into train and test using 2000 rows for the train set and the remaining for the test."
   ]
  },
  {
   "cell_type": "code",
   "execution_count": 2,
   "id": "934ac671-c7fc-49fc-998a-b820cf832cf5",
   "metadata": {},
   "outputs": [],
   "source": [
    "# Prepare column names\n",
    "columns = [\"stock_{}\".format(i) for i in range(0, 19)]\n",
    "columns.append('risk_free_asset')\n",
    "\n",
    "# Keep a mapping of stock names to integers for future reference\n",
    "stock_names_map = {\n",
    "    0: \"American Express Company\",\n",
    "    1: \"Bank of America Corporation\",\n",
    "    2: \"BP plc\",\n",
    "    3: \"Broadcom Corp.\",\n",
    "    4: \"Costco Wholesale Corporation\",\n",
    "    5: \"Cisco Systems, Inc.\",\n",
    "    6: \"The Walt Disney Company\",\n",
    "    7: \"The Goldman Sachs Group, Inc.\",\n",
    "    8: \"Hewlett-Packard Company\",\n",
    "    9: \"Intel Corporation\",\n",
    "    10: \"The Coca-Cola Company\",\n",
    "    11: \"3M Company\",\n",
    "    12: \"Microsoft Corporation\",\n",
    "    13: \"Nike, Inc.\",\n",
    "    14: \"QUALCOMM Incorporated\",\n",
    "    15: \"Starbucks Corporation\",\n",
    "    16: \"AT&T, Inc.\",\n",
    "    17: \"Tiffany & Co.\",\n",
    "    18: \"Verizon Communications Inc.\",\n",
    "    19: \"US Dollar\"\n",
    "}\n",
    "\n",
    "# Read the data\n",
    "dataset = pd.read_table('portfolio_data.txt', sep='\\s+', header=None,\n",
    "                        names=columns, skiprows=22)"
   ]
  },
  {
   "cell_type": "code",
   "execution_count": 3,
   "id": "50c01a23-33c6-49a6-baa1-6a2041221c72",
   "metadata": {},
   "outputs": [
    {
     "data": {
      "text/plain": [
       "(2517, 20)"
      ]
     },
     "execution_count": 3,
     "metadata": {},
     "output_type": "execute_result"
    }
   ],
   "source": [
    "# Display the shape of the data\n",
    "dataset.shape"
   ]
  },
  {
   "cell_type": "code",
   "execution_count": 4,
   "id": "11bd5fb1-d240-4825-a6c9-0e8a59a1caa4",
   "metadata": {},
   "outputs": [
    {
     "data": {
      "text/html": [
       "<div>\n",
       "<style scoped>\n",
       "    .dataframe tbody tr th:only-of-type {\n",
       "        vertical-align: middle;\n",
       "    }\n",
       "\n",
       "    .dataframe tbody tr th {\n",
       "        vertical-align: top;\n",
       "    }\n",
       "\n",
       "    .dataframe thead th {\n",
       "        text-align: right;\n",
       "    }\n",
       "</style>\n",
       "<table border=\"1\" class=\"dataframe\">\n",
       "  <thead>\n",
       "    <tr style=\"text-align: right;\">\n",
       "      <th></th>\n",
       "      <th>stock_0</th>\n",
       "      <th>stock_1</th>\n",
       "      <th>stock_2</th>\n",
       "      <th>stock_3</th>\n",
       "      <th>stock_4</th>\n",
       "      <th>stock_5</th>\n",
       "      <th>stock_6</th>\n",
       "      <th>stock_7</th>\n",
       "      <th>stock_8</th>\n",
       "      <th>stock_9</th>\n",
       "      <th>stock_10</th>\n",
       "      <th>stock_11</th>\n",
       "      <th>stock_12</th>\n",
       "      <th>stock_13</th>\n",
       "      <th>stock_14</th>\n",
       "      <th>stock_15</th>\n",
       "      <th>stock_16</th>\n",
       "      <th>stock_17</th>\n",
       "      <th>stock_18</th>\n",
       "      <th>risk_free_asset</th>\n",
       "    </tr>\n",
       "  </thead>\n",
       "  <tbody>\n",
       "    <tr>\n",
       "      <th>0</th>\n",
       "      <td>35.79</td>\n",
       "      <td>30.11</td>\n",
       "      <td>31.59</td>\n",
       "      <td>21.73</td>\n",
       "      <td>30.18</td>\n",
       "      <td>22.30</td>\n",
       "      <td>20.40</td>\n",
       "      <td>86.77</td>\n",
       "      <td>20.05</td>\n",
       "      <td>24.40</td>\n",
       "      <td>18.75</td>\n",
       "      <td>64.28</td>\n",
       "      <td>20.10</td>\n",
       "      <td>14.84</td>\n",
       "      <td>23.11</td>\n",
       "      <td>15.44</td>\n",
       "      <td>14.94</td>\n",
       "      <td>37.08</td>\n",
       "      <td>18.78</td>\n",
       "      <td>1.00000</td>\n",
       "    </tr>\n",
       "    <tr>\n",
       "      <th>1</th>\n",
       "      <td>36.10</td>\n",
       "      <td>30.20</td>\n",
       "      <td>31.91</td>\n",
       "      <td>22.56</td>\n",
       "      <td>30.04</td>\n",
       "      <td>22.78</td>\n",
       "      <td>20.80</td>\n",
       "      <td>86.81</td>\n",
       "      <td>20.49</td>\n",
       "      <td>24.97</td>\n",
       "      <td>18.77</td>\n",
       "      <td>65.50</td>\n",
       "      <td>20.60</td>\n",
       "      <td>14.83</td>\n",
       "      <td>23.60</td>\n",
       "      <td>15.67</td>\n",
       "      <td>15.46</td>\n",
       "      <td>36.87</td>\n",
       "      <td>19.32</td>\n",
       "      <td>1.00004</td>\n",
       "    </tr>\n",
       "    <tr>\n",
       "      <th>2</th>\n",
       "      <td>36.16</td>\n",
       "      <td>30.15</td>\n",
       "      <td>32.11</td>\n",
       "      <td>22.31</td>\n",
       "      <td>30.38</td>\n",
       "      <td>23.04</td>\n",
       "      <td>20.85</td>\n",
       "      <td>86.30</td>\n",
       "      <td>20.58</td>\n",
       "      <td>24.96</td>\n",
       "      <td>18.69</td>\n",
       "      <td>65.30</td>\n",
       "      <td>20.67</td>\n",
       "      <td>14.81</td>\n",
       "      <td>23.37</td>\n",
       "      <td>15.86</td>\n",
       "      <td>15.50</td>\n",
       "      <td>37.17</td>\n",
       "      <td>19.64</td>\n",
       "      <td>1.00008</td>\n",
       "    </tr>\n",
       "    <tr>\n",
       "      <th>3</th>\n",
       "      <td>36.27</td>\n",
       "      <td>30.08</td>\n",
       "      <td>31.35</td>\n",
       "      <td>22.33</td>\n",
       "      <td>30.82</td>\n",
       "      <td>23.50</td>\n",
       "      <td>21.20</td>\n",
       "      <td>88.11</td>\n",
       "      <td>20.22</td>\n",
       "      <td>25.79</td>\n",
       "      <td>18.57</td>\n",
       "      <td>64.18</td>\n",
       "      <td>20.65</td>\n",
       "      <td>14.86</td>\n",
       "      <td>24.03</td>\n",
       "      <td>15.80</td>\n",
       "      <td>15.66</td>\n",
       "      <td>36.66</td>\n",
       "      <td>19.68</td>\n",
       "      <td>1.00012</td>\n",
       "    </tr>\n",
       "    <tr>\n",
       "      <th>4</th>\n",
       "      <td>36.16</td>\n",
       "      <td>30.09</td>\n",
       "      <td>31.38</td>\n",
       "      <td>22.77</td>\n",
       "      <td>30.96</td>\n",
       "      <td>24.22</td>\n",
       "      <td>21.51</td>\n",
       "      <td>88.22</td>\n",
       "      <td>21.37</td>\n",
       "      <td>25.98</td>\n",
       "      <td>18.66</td>\n",
       "      <td>63.75</td>\n",
       "      <td>20.62</td>\n",
       "      <td>15.01</td>\n",
       "      <td>25.41</td>\n",
       "      <td>15.66</td>\n",
       "      <td>15.95</td>\n",
       "      <td>35.76</td>\n",
       "      <td>19.98</td>\n",
       "      <td>1.00016</td>\n",
       "    </tr>\n",
       "  </tbody>\n",
       "</table>\n",
       "</div>"
      ],
      "text/plain": [
       "   stock_0  stock_1  stock_2  stock_3  stock_4  stock_5  stock_6  stock_7  \\\n",
       "0    35.79    30.11    31.59    21.73    30.18    22.30    20.40    86.77   \n",
       "1    36.10    30.20    31.91    22.56    30.04    22.78    20.80    86.81   \n",
       "2    36.16    30.15    32.11    22.31    30.38    23.04    20.85    86.30   \n",
       "3    36.27    30.08    31.35    22.33    30.82    23.50    21.20    88.11   \n",
       "4    36.16    30.09    31.38    22.77    30.96    24.22    21.51    88.22   \n",
       "\n",
       "   stock_8  stock_9  stock_10  stock_11  stock_12  stock_13  stock_14  \\\n",
       "0    20.05    24.40     18.75     64.28     20.10     14.84     23.11   \n",
       "1    20.49    24.97     18.77     65.50     20.60     14.83     23.60   \n",
       "2    20.58    24.96     18.69     65.30     20.67     14.81     23.37   \n",
       "3    20.22    25.79     18.57     64.18     20.65     14.86     24.03   \n",
       "4    21.37    25.98     18.66     63.75     20.62     15.01     25.41   \n",
       "\n",
       "   stock_15  stock_16  stock_17  stock_18  risk_free_asset  \n",
       "0     15.44     14.94     37.08     18.78          1.00000  \n",
       "1     15.67     15.46     36.87     19.32          1.00004  \n",
       "2     15.86     15.50     37.17     19.64          1.00008  \n",
       "3     15.80     15.66     36.66     19.68          1.00012  \n",
       "4     15.66     15.95     35.76     19.98          1.00016  "
      ]
     },
     "execution_count": 4,
     "metadata": {},
     "output_type": "execute_result"
    }
   ],
   "source": [
    "# Display the first 5 rows\n",
    "dataset.head(5)"
   ]
  },
  {
   "cell_type": "code",
   "execution_count": 5,
   "id": "13e1da5d-55e1-4e6a-92cb-7f552cac2dc1",
   "metadata": {},
   "outputs": [],
   "source": [
    "# Split the data and use 2000 rows for the train_set\n",
    "train_size = 2000\n",
    "\n",
    "R_train = dataset[:train_size]\n",
    "R_test = dataset[train_size:]"
   ]
  },
  {
   "cell_type": "code",
   "execution_count": 6,
   "id": "442c5e3c-a1b0-47bb-a6c5-6920712609ea",
   "metadata": {},
   "outputs": [
    {
     "data": {
      "text/plain": [
       "2000"
      ]
     },
     "execution_count": 6,
     "metadata": {},
     "output_type": "execute_result"
    }
   ],
   "source": [
    "len(R_train)"
   ]
  },
  {
   "cell_type": "code",
   "execution_count": 7,
   "id": "ac2a3aa2-9c57-4cb8-95b1-021f07280e67",
   "metadata": {},
   "outputs": [
    {
     "data": {
      "text/plain": [
       "517"
      ]
     },
     "execution_count": 7,
     "metadata": {},
     "output_type": "execute_result"
    }
   ],
   "source": [
    "len(R_test)"
   ]
  },
  {
   "cell_type": "code",
   "execution_count": 8,
   "id": "a270b5f1-4190-4aa3-b837-5267206bf524",
   "metadata": {},
   "outputs": [],
   "source": [
    "R_train_percent = (R_train / 100)\n",
    "R_test_percent = (R_test / 100)"
   ]
  },
  {
   "cell_type": "markdown",
   "id": "34ccf192-df1c-4f27-88a7-6e6929868aac",
   "metadata": {},
   "source": [
    "## Checking the condition of matrix R_train"
   ]
  },
  {
   "cell_type": "code",
   "execution_count": 9,
   "id": "254a86b8-869f-4e4a-a1ad-8484c81d0405",
   "metadata": {},
   "outputs": [
    {
     "data": {
      "text/plain": [
       "3707.3958568380895"
      ]
     },
     "execution_count": 9,
     "metadata": {},
     "output_type": "execute_result"
    }
   ],
   "source": [
    "np.linalg.cond(R_train)"
   ]
  },
  {
   "cell_type": "markdown",
   "id": "c23106c8-c056-4105-8664-bdb45be177cf",
   "metadata": {},
   "source": [
    "The condition of matrix `R_train` is 3707.40. This number is very high which means that whatever direct optimization\n",
    "we try to do will be numerically unstable."
   ]
  },
  {
   "cell_type": "markdown",
   "id": "90bcd657-75e6-4646-b48e-4a85a52db059",
   "metadata": {},
   "source": [
    "## Minimizing Risk (Squared) with return value $ρ$\n",
    "\n",
    "According to the Readme PDF, the following equation (17.2):\n",
    "\n",
    "$minimize ||Rw - ρ\\boldsymbol{1}||^2$ (1)\n",
    "\n",
    "s.t \n",
    "\n",
    "$\\sum_{i=1}^{n} w = 1$ and $\\mu^Tw = ρ$ (2)\n",
    "\n",
    "defines a linearly constrained least squares problem, for the portfolio optimization.\n",
    "\n",
    "We care about the value `w` which comes from the solution of these equations.\n",
    "\n",
    "- In our case:\n",
    "  - $R$ is the R_train.\n",
    "  - $w$ is the weight vector of the 20 assets.\n",
    "  - $ρ$ will take the value of `10%`, `20%` and `40%` as requested by the exercise\n",
    "  - $\\mu = R^T \\boldsymbol{1}/T$ is the n-vector (where n=20) of the average asset returns\n",
    "      - $T$ is the number of periods (in our case the number of rows/days in the dataset)\n",
    "\n",
    "**Note that:**\n",
    "\n",
    "Due to large `condition` number the matrix of returns can be factorized using `QR decomposition`.\\\n",
    "So $||Ax - b||$ is equivalent to $||Rx - Q^{-1}b||$ and because `Q` is orthogonal then it is\n",
    "equal to $||Rx - Q^Tb||$\n",
    "\n",
    "\n",
    "**Methodology**\n",
    "\n",
    "- Multiply the $R\\_train$ with 250 (P=250 trading days) to obtain the annualized return\n",
    "- For the different values of $ρ$ (10%, 20%, 30%) use scipy to minimize the above function with the given constraints\n",
    "  in order to find a set of weights for each case (for each anualized portfolio return). A class named `PortfolioOptimizer`\n",
    "  is created in order to find the weights/allocations and encodes all operations (portfolio value, leverage)\n",
    "  needed as building blocks for the tasks of the assignment.\n",
    "\n",
    "The class `PortfolioOptimizer` contains:\n",
    "\n",
    "- `fit(p)`: minimizes the (squared) risk, with `scipy.optimize.minimize`. The output of this method\n",
    "  is the allocation of weights for a given `p` (annualized average return). It simply implements (1)\n",
    "  and (2) as a linearly constraint least squares problem.\n",
    "- `predict(R)`: implements $r = Rw$ where $r$ is the `T-vector` of portfolio returns in the t periods.\n",
    "- `V(R, investment_init)`: implements/calulates the value of a portfolio over time\n",
    "- `L`: computes the leverage using the formula $L = \\sum_{i=1}^{n} |w_i|$"
   ]
  },
  {
   "cell_type": "code",
   "execution_count": 10,
   "id": "5258e0f3-aec2-4cc4-b586-fad6a8c61667",
   "metadata": {},
   "outputs": [],
   "source": [
    "# The number of trading days is 250\n",
    "P = 250"
   ]
  },
  {
   "cell_type": "code",
   "execution_count": 11,
   "id": "2e697f26-aeef-45b1-aa9f-f6442a399273",
   "metadata": {},
   "outputs": [],
   "source": [
    "class PortfolioOptimizer:\n",
    "    \"\"\"Portfolio optimizer\"\"\"\n",
    "    \n",
    "    def __init__(self, A):\n",
    "        self.A = A\n",
    "        self.w = np.array([])\n",
    "\n",
    "    def fit(self, p, P=P):\n",
    "        # The objective function to minimize (squared L2)\n",
    "        def objective_function(x, A, b):\n",
    "            res = np.dot(A, x) - b\n",
    "            return np.dot(res, res)\n",
    "\n",
    "        # The sum to one of weights, constraint\n",
    "        sum_to_one_constraint = {\n",
    "            'type': 'eq', 'fun': lambda weights: np.sum(weights) - 1\n",
    "        }\n",
    "\n",
    "        # The mean portofolio return (annualized) of equal to p, constraint\n",
    "        mean_returns = np.mean(self.A, axis=0)\n",
    "        mean_portfolio_return_constraint = {\n",
    "            'type': 'eq', 'fun': lambda weights: np.dot(mean_returns, weights)*P - p\n",
    "        }\n",
    "\n",
    "        # Gather the constraints to a tuple\n",
    "        constraints = (sum_to_one_constraint,\n",
    "                       mean_portfolio_return_constraint)\n",
    "\n",
    "        # Initial guess for the weights\n",
    "        w_init = np.random.normal(loc=0, scale=1, size=self.A.shape[1])\n",
    "\n",
    "        # The p vector\n",
    "        p_vector = np.array([p] * self.A.shape[0])\n",
    "\n",
    "        # Minimize the objective function subject to the above linear constraints\n",
    "        result = scipy.optimize.minimize(\n",
    "            fun = objective_function,\n",
    "            x0 = w_init,\n",
    "            args = (self.A, p_vector),\n",
    "            # args = (self.A, P),?\\\n",
    "            constraints=constraints,\n",
    "            method='SLSQP',\n",
    "            tol=1e-6\n",
    "        )\n",
    "\n",
    "        self.w = result.x\n",
    "\n",
    "        return self\n",
    "\n",
    "    def predict(self, R):\n",
    "        return np.dot(R, self.w)\n",
    "\n",
    "    def V(self, R, investment_init):\n",
    "        T = R.shape[0]\n",
    "        r = self.predict(R)\n",
    "\n",
    "        v = [investment_init]\n",
    "        cum_sum = 0\n",
    "\n",
    "        for t in range(1, T):\n",
    "            cum_sum += r[t-1]\n",
    "            v.append(v[0] + cum_sum*v[0])\n",
    "\n",
    "        return np.array(v)\n",
    "\n",
    "    def L(self):\n",
    "        return np.sum(np.abs(self.w))"
   ]
  },
  {
   "cell_type": "markdown",
   "id": "487fd0fa-748e-4247-be66-8d421658901c",
   "metadata": {},
   "source": [
    "## Fitting an optimizer for 10% average annualized return"
   ]
  },
  {
   "cell_type": "code",
   "execution_count": 12,
   "id": "54486da9-9c35-458a-a0e0-45790a0c2d6e",
   "metadata": {},
   "outputs": [],
   "source": [
    "# Create an optimizer for 10% mean annualized portfolio return\n",
    "optimizer_10 = PortfolioOptimizer(R_train_percent).fit(0.1)"
   ]
  },
  {
   "cell_type": "markdown",
   "id": "ba00bb9e-4c90-408b-9986-acf081925c70",
   "metadata": {},
   "source": [
    "## Fitting an optimizer for 20% average annualized return"
   ]
  },
  {
   "cell_type": "code",
   "execution_count": 13,
   "id": "999d4c9f-3864-48ae-8eef-09f7c3767ca5",
   "metadata": {},
   "outputs": [],
   "source": [
    "# Create an optimizer for 20% mean annualized portfolio return\n",
    "optimizer_20 = PortfolioOptimizer(R_train_percent).fit(0.2)"
   ]
  },
  {
   "cell_type": "markdown",
   "id": "90610bb7-b2f4-456a-b019-247c6911bcc0",
   "metadata": {},
   "source": [
    "## Fitting an optimizer for 40% average annualized return"
   ]
  },
  {
   "cell_type": "code",
   "execution_count": 14,
   "id": "7fdf0896",
   "metadata": {},
   "outputs": [],
   "source": [
    "# Create an optimizer for 40% mean annualized portfolio return\n",
    "optimizer_40 = PortfolioOptimizer(R_train_percent).fit(0.4)"
   ]
  },
  {
   "cell_type": "markdown",
   "id": "e057e87a-c150-4a7a-baaf-aaaccb7a63a8",
   "metadata": {},
   "source": [
    "## Plot cummulative values for training set for 10%, 20% and 40% portfolio"
   ]
  },
  {
   "cell_type": "code",
   "execution_count": 15,
   "id": "f046f1e5-3d03-40e6-91b7-542309dec841",
   "metadata": {},
   "outputs": [
    {
     "data": {
      "image/png": "[encoded data removed]",
      "text/plain": [
       "<Figure size 640x480 with 1 Axes>"
      ]
     },
     "metadata": {},
     "output_type": "display_data"
    }
   ],
   "source": [
    "v_10_train = optimizer_10.V(R_train_percent, 10_000)\n",
    "v_20_train = optimizer_20.V(R_train_percent, 10_000)\n",
    "v_40_train = optimizer_40.V(R_train_percent, 10_000)\n",
    "\n",
    "days = np.arange(0, R_train_percent.shape[0])\n",
    "\n",
    "plt.plot(days, v_10_train, color='brown', label='10%')\n",
    "plt.plot(days, v_20_train, color='green', label='20%')\n",
    "plt.plot(days, v_40_train, color='black', label='40%')\n",
    "plt.xlabel('Day')\n",
    "plt.ylabel('Value')\n",
    "plt.title('Cumulative values for 10%, 20% and 40% on training set')\n",
    "\n",
    "plt.legend()\n",
    "plt.show()"
   ]
  },
  {
   "cell_type": "markdown",
   "id": "f0dce810-7b71-444d-b2ea-e0bd3c5fdf91",
   "metadata": {},
   "source": [
    "## Plot cummulative values for test set for 10%, 20% and 40% portfolio"
   ]
  },
  {
   "cell_type": "code",
   "execution_count": 16,
   "id": "aec1e6b6-864f-4d82-bab2-7c573538cc2d",
   "metadata": {},
   "outputs": [
    {
     "data": {
      "image/png": "[encoded data removed]",
      "text/plain": [
       "<Figure size 640x480 with 1 Axes>"
      ]
     },
     "metadata": {},
     "output_type": "display_data"
    }
   ],
   "source": [
    "v_10_test = optimizer_10.V(R_test_percent, 10_000)\n",
    "v_20_test = optimizer_20.V(R_test_percent, 10_000)\n",
    "v_40_test = optimizer_40.V(R_test_percent, 10_000)\n",
    "\n",
    "days = np.arange(0, R_test_percent.shape[0])\n",
    "\n",
    "plt.plot(days, v_10_test, color='brown', label='10%')\n",
    "plt.plot(days, v_20_test, color='green', label='20%')\n",
    "plt.plot(days, v_40_test, color='black', label='40%')\n",
    "plt.xlabel('Day')\n",
    "plt.ylabel('Value')\n",
    "plt.title('Cumulative values for 10%, 20% and 40% on test set')\n",
    "\n",
    "plt.legend()\n",
    "plt.show()"
   ]
  },
  {
   "cell_type": "markdown",
   "id": "0a006435-1e74-4e74-a900-225ba6869d0f",
   "metadata": {},
   "source": [
    "## Portfolio Report\n",
    "\n",
    "In this section, we report for each portfolio (10%, 20% and 40%) for both train and test datasets:\n",
    "- the annual return\n",
    "- the annual risk\n",
    "- the asset with the minimum allocation\n",
    "- the asset with the maximum allocation\n",
    "- the leverage\n",
    "\n",
    "Reporting is realized as pandas Dataframes, using a custom class named `PortfolioReport`."
   ]
  },
  {
   "cell_type": "code",
   "execution_count": 17,
   "id": "2ae24a6d-f542-4fdd-8f13-f29fb6cb4bd7",
   "metadata": {},
   "outputs": [],
   "source": [
    "class PortfolioReporter:\n",
    "    def __init__(self, dataset, dataset_label, optimizers, stock_names, P=P):\n",
    "        self.dataset = dataset\n",
    "        self.dataset_label = dataset_label\n",
    "        self.optimizers = optimizers\n",
    "        self.stock_names = stock_names\n",
    "        self.P = P\n",
    "\n",
    "    def report(self):\n",
    "        report_df = pd.DataFrame()\n",
    "\n",
    "        report_df['Dataset'] = [self.dataset_label] * 3\n",
    "        report_df['Portfolio'] = ['10%', '20%', '40%']\n",
    "        report_df['Annual Return'] = [\n",
    "            np.mean(self.optimizers['10'].predict(self.dataset)) * self.P,\n",
    "            np.mean(self.optimizers['20'].predict(self.dataset)) * self.P,\n",
    "            np.mean(self.optimizers['40'].predict(self.dataset)) * self.P\n",
    "        ]\n",
    "        report_df['Annual Risk'] = [\n",
    "            np.std(self.optimizers['10'].predict(self.dataset)) * np.sqrt(self.P),\n",
    "            np.std(self.optimizers['20'].predict(self.dataset)) * np.sqrt(self.P),\n",
    "            np.std(self.optimizers['40'].predict(self.dataset)) * np.sqrt(self.P)\n",
    "        ]\n",
    "        report_df['Asset with Minimum Allocation'] = [\n",
    "            self.stock_names[np.argmin(self.optimizers['10'].w)],\n",
    "            self.stock_names[np.argmin(self.optimizers['20'].w)],\n",
    "            self.stock_names[np.argmin(self.optimizers['40'].w)]\n",
    "        ]\n",
    "        report_df['Asset with Maximum Allocation'] = [\n",
    "            self.stock_names[np.argmax(self.optimizers['10'].w)],\n",
    "            self.stock_names[np.argmax(self.optimizers['20'].w)],\n",
    "            self.stock_names[np.argmax(self.optimizers['40'].w)]\n",
    "        ]\n",
    "        \n",
    "        report_df['Leverage'] = [\n",
    "            self.optimizers['10'].L(),\n",
    "            self.optimizers['20'].L(),\n",
    "            self.optimizers['40'].L()\n",
    "        ]\n",
    "\n",
    "        return report_df"
   ]
  },
  {
   "cell_type": "code",
   "execution_count": 18,
   "id": "cfab553d-85f1-493d-b60c-bd425fd10021",
   "metadata": {},
   "outputs": [
    {
     "data": {
      "text/html": [
       "<div>\n",
       "<style scoped>\n",
       "    .dataframe tbody tr th:only-of-type {\n",
       "        vertical-align: middle;\n",
       "    }\n",
       "\n",
       "    .dataframe tbody tr th {\n",
       "        vertical-align: top;\n",
       "    }\n",
       "\n",
       "    .dataframe thead th {\n",
       "        text-align: right;\n",
       "    }\n",
       "</style>\n",
       "<table border=\"1\" class=\"dataframe\">\n",
       "  <thead>\n",
       "    <tr style=\"text-align: right;\">\n",
       "      <th></th>\n",
       "      <th>Dataset</th>\n",
       "      <th>Portfolio</th>\n",
       "      <th>Annual Return</th>\n",
       "      <th>Annual Risk</th>\n",
       "      <th>Asset with Minimum Allocation</th>\n",
       "      <th>Asset with Maximum Allocation</th>\n",
       "      <th>Leverage</th>\n",
       "    </tr>\n",
       "  </thead>\n",
       "  <tbody>\n",
       "    <tr>\n",
       "      <th>0</th>\n",
       "      <td>Train</td>\n",
       "      <td>10%</td>\n",
       "      <td>0.1</td>\n",
       "      <td>0.008742</td>\n",
       "      <td>AT&amp;T, Inc.</td>\n",
       "      <td>US Dollar</td>\n",
       "      <td>1.168015</td>\n",
       "    </tr>\n",
       "    <tr>\n",
       "      <th>1</th>\n",
       "      <td>Train</td>\n",
       "      <td>20%</td>\n",
       "      <td>0.2</td>\n",
       "      <td>0.008387</td>\n",
       "      <td>AT&amp;T, Inc.</td>\n",
       "      <td>US Dollar</td>\n",
       "      <td>1.162806</td>\n",
       "    </tr>\n",
       "    <tr>\n",
       "      <th>2</th>\n",
       "      <td>Train</td>\n",
       "      <td>40%</td>\n",
       "      <td>0.4</td>\n",
       "      <td>0.007675</td>\n",
       "      <td>AT&amp;T, Inc.</td>\n",
       "      <td>US Dollar</td>\n",
       "      <td>1.148716</td>\n",
       "    </tr>\n",
       "  </tbody>\n",
       "</table>\n",
       "</div>"
      ],
      "text/plain": [
       "  Dataset Portfolio  Annual Return  Annual Risk Asset with Minimum Allocation  \\\n",
       "0   Train       10%            0.1     0.008742                    AT&T, Inc.   \n",
       "1   Train       20%            0.2     0.008387                    AT&T, Inc.   \n",
       "2   Train       40%            0.4     0.007675                    AT&T, Inc.   \n",
       "\n",
       "  Asset with Maximum Allocation  Leverage  \n",
       "0                     US Dollar  1.168015  \n",
       "1                     US Dollar  1.162806  \n",
       "2                     US Dollar  1.148716  "
      ]
     },
     "execution_count": 18,
     "metadata": {},
     "output_type": "execute_result"
    }
   ],
   "source": [
    "# Construct a dataframe for portfolios based on the train set\n",
    "# using the PorfolioReporter class\n",
    "\n",
    "optimizers = {\n",
    "    '10': optimizer_10,\n",
    "    '20': optimizer_20,\n",
    "    '40': optimizer_40\n",
    "}\n",
    "\n",
    "train_reporter = PortfolioReporter(R_train_percent, 'Train', optimizers, stock_names_map)\n",
    "train_reporter.report()"
   ]
  },
  {
   "cell_type": "code",
   "execution_count": 19,
   "id": "3a28e029-aef7-4801-aef8-72d7bc16a350",
   "metadata": {},
   "outputs": [
    {
     "data": {
      "text/html": [
       "<div>\n",
       "<style scoped>\n",
       "    .dataframe tbody tr th:only-of-type {\n",
       "        vertical-align: middle;\n",
       "    }\n",
       "\n",
       "    .dataframe tbody tr th {\n",
       "        vertical-align: top;\n",
       "    }\n",
       "\n",
       "    .dataframe thead th {\n",
       "        text-align: right;\n",
       "    }\n",
       "</style>\n",
       "<table border=\"1\" class=\"dataframe\">\n",
       "  <thead>\n",
       "    <tr style=\"text-align: right;\">\n",
       "      <th></th>\n",
       "      <th>Dataset</th>\n",
       "      <th>Portfolio</th>\n",
       "      <th>Annual Return</th>\n",
       "      <th>Annual Risk</th>\n",
       "      <th>Asset with Minimum Allocation</th>\n",
       "      <th>Asset with Maximum Allocation</th>\n",
       "      <th>Leverage</th>\n",
       "    </tr>\n",
       "  </thead>\n",
       "  <tbody>\n",
       "    <tr>\n",
       "      <th>0</th>\n",
       "      <td>Test</td>\n",
       "      <td>10%</td>\n",
       "      <td>-0.866767</td>\n",
       "      <td>0.012490</td>\n",
       "      <td>AT&amp;T, Inc.</td>\n",
       "      <td>US Dollar</td>\n",
       "      <td>1.168015</td>\n",
       "    </tr>\n",
       "    <tr>\n",
       "      <th>1</th>\n",
       "      <td>Test</td>\n",
       "      <td>20%</td>\n",
       "      <td>-0.708654</td>\n",
       "      <td>0.012314</td>\n",
       "      <td>AT&amp;T, Inc.</td>\n",
       "      <td>US Dollar</td>\n",
       "      <td>1.162806</td>\n",
       "    </tr>\n",
       "    <tr>\n",
       "      <th>2</th>\n",
       "      <td>Test</td>\n",
       "      <td>40%</td>\n",
       "      <td>-0.444293</td>\n",
       "      <td>0.011162</td>\n",
       "      <td>AT&amp;T, Inc.</td>\n",
       "      <td>US Dollar</td>\n",
       "      <td>1.148716</td>\n",
       "    </tr>\n",
       "  </tbody>\n",
       "</table>\n",
       "</div>"
      ],
      "text/plain": [
       "  Dataset Portfolio  Annual Return  Annual Risk Asset with Minimum Allocation  \\\n",
       "0    Test       10%      -0.866767     0.012490                    AT&T, Inc.   \n",
       "1    Test       20%      -0.708654     0.012314                    AT&T, Inc.   \n",
       "2    Test       40%      -0.444293     0.011162                    AT&T, Inc.   \n",
       "\n",
       "  Asset with Maximum Allocation  Leverage  \n",
       "0                     US Dollar  1.168015  \n",
       "1                     US Dollar  1.162806  \n",
       "2                     US Dollar  1.148716  "
      ]
     },
     "execution_count": 19,
     "metadata": {},
     "output_type": "execute_result"
    }
   ],
   "source": [
    "# Construct a dataframe for portfolios based on the test set\n",
    "# using the PorfolioReporter class\n",
    "\n",
    "optimizers = {\n",
    "    '10': optimizer_10,\n",
    "    '20': optimizer_20,\n",
    "    '40': optimizer_40\n",
    "}\n",
    "\n",
    "test_reporter = PortfolioReporter(R_test_percent, 'Test', optimizers, stock_names_map)\n",
    "test_reporter.report()"
   ]
  }
 ],
 "metadata": {
  "kernelspec": {
   "display_name": "Python 3 (ipykernel)",
   "language": "python",
   "name": "python3"
  },
  "language_info": {
   "codemirror_mode": {
    "name": "ipython",
    "version": 3
   },
   "file_extension": ".py",
   "mimetype": "text/x-python",
   "name": "python",
   "nbconvert_exporter": "python",
   "pygments_lexer": "ipython3",
   "version": "3.9.18"
  }
 },
 "nbformat": 4,
 "nbformat_minor": 5
}
